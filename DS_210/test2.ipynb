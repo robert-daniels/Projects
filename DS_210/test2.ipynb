{
 "cells": [
  {
   "cell_type": "code",
   "execution_count": 176,
   "metadata": {},
   "outputs": [],
   "source": [
    "import pandas as pd\n",
    "pd.set_option('display.max_columns', None)"
   ]
  },
  {
   "cell_type": "code",
   "execution_count": 177,
   "metadata": {},
   "outputs": [
    {
     "name": "stdout",
     "output_type": "stream",
     "text": [
      "student_id          int64\n",
      "student_number     object\n",
      "gender             object\n",
      "age               float64\n",
      "credits_earned      int64\n",
      "gpa               float64\n",
      "school             object\n",
      "phone              object\n",
      "dream_job          object\n",
      "dtype: object\n"
     ]
    }
   ],
   "source": [
    "df = pd.read_csv(\"StudentInfo.csv\")\n",
    "print(df.dtypes)"
   ]
  },
  {
   "cell_type": "code",
   "execution_count": 178,
   "metadata": {},
   "outputs": [
    {
     "name": "stdout",
     "output_type": "stream",
     "text": [
      "3.070450450450451\n"
     ]
    }
   ],
   "source": [
    "df60 = df[(df.credits_earned > 60)]\n",
    "print(df60['gpa'].mean())"
   ]
  },
  {
   "cell_type": "code",
   "execution_count": 179,
   "metadata": {},
   "outputs": [
    {
     "name": "stdout",
     "output_type": "stream",
     "text": [
      "0\n"
     ]
    }
   ],
   "source": [
    "print(sum(df['gender'].isnull()))\n"
   ]
  },
  {
   "cell_type": "code",
   "execution_count": 180,
   "metadata": {},
   "outputs": [],
   "source": [
    "df['gender'] = df['gender'].str.strip()\n",
    "df['gender'] = df['gender'].replace(['Male'],'M')\n",
    "df['gender'] = df['gender'].replace(['Female'],'F')"
   ]
  },
  {
   "cell_type": "code",
   "execution_count": 181,
   "metadata": {},
   "outputs": [
    {
     "name": "stdout",
     "output_type": "stream",
     "text": [
      "22.509881422924902\n"
     ]
    }
   ],
   "source": [
    "dfMale = df[(df.gender == \"M\")]\n",
    "print(dfMale['age'].mean())"
   ]
  },
  {
   "cell_type": "code",
   "execution_count": 182,
   "metadata": {},
   "outputs": [
    {
     "name": "stdout",
     "output_type": "stream",
     "text": [
      "F    241\n",
      "Name: gender, dtype: int64\n"
     ]
    }
   ],
   "source": [
    "dfFemale = df[(df.gender == \"F\")]\n",
    "print(dfFemale['gender'].value_counts())"
   ]
  },
  {
   "cell_type": "code",
   "execution_count": 183,
   "metadata": {},
   "outputs": [
    {
     "name": "stdout",
     "output_type": "stream",
     "text": [
      "count    233.000000\n",
      "mean       3.044893\n",
      "std        0.579478\n",
      "min        2.000000\n",
      "25%        2.530000\n",
      "50%        3.070000\n",
      "75%        3.530000\n",
      "max        4.000000\n",
      "Name: gpa, dtype: float64\n"
     ]
    }
   ],
   "source": [
    "print(dfFemale['gpa'].describe())"
   ]
  },
  {
   "cell_type": "code",
   "execution_count": 184,
   "metadata": {},
   "outputs": [],
   "source": [
    "df = df.dropna(subset=['age'])"
   ]
  },
  {
   "cell_type": "code",
   "execution_count": 185,
   "metadata": {},
   "outputs": [
    {
     "name": "stdout",
     "output_type": "stream",
     "text": [
      "count      4.000000\n",
      "mean      52.250000\n",
      "std       78.108365\n",
      "min      -25.000000\n",
      "25%      -10.000000\n",
      "50%       56.000000\n",
      "75%      118.250000\n",
      "max      122.000000\n",
      "Name: age, dtype: float64\n"
     ]
    }
   ],
   "source": [
    "dfInvalidAge = df[(df.age > 110) | (df.age < 0)]\n",
    "print(dfInvalidAge['age'].describe())"
   ]
  },
  {
   "cell_type": "code",
   "execution_count": 186,
   "metadata": {},
   "outputs": [
    {
     "name": "stdout",
     "output_type": "stream",
     "text": [
      "count    482.000000\n",
      "mean      21.574689\n",
      "std        2.910948\n",
      "min       17.000000\n",
      "25%       19.000000\n",
      "50%       22.000000\n",
      "75%       24.000000\n",
      "max       26.000000\n",
      "Name: age, dtype: float64\n"
     ]
    }
   ],
   "source": [
    "df = df[(df.age > 0) & (df.age <= 110)]\n",
    "print(df['age'].describe())"
   ]
  },
  {
   "cell_type": "code",
   "execution_count": 187,
   "metadata": {},
   "outputs": [
    {
     "data": {
      "text/html": [
       "<div>\n",
       "<style scoped>\n",
       "    .dataframe tbody tr th:only-of-type {\n",
       "        vertical-align: middle;\n",
       "    }\n",
       "\n",
       "    .dataframe tbody tr th {\n",
       "        vertical-align: top;\n",
       "    }\n",
       "\n",
       "    .dataframe thead th {\n",
       "        text-align: right;\n",
       "    }\n",
       "</style>\n",
       "<table border=\"1\" class=\"dataframe\">\n",
       "  <thead>\n",
       "    <tr style=\"text-align: right;\">\n",
       "      <th></th>\n",
       "      <th>student_id</th>\n",
       "      <th>student_number</th>\n",
       "      <th>gender</th>\n",
       "      <th>age</th>\n",
       "      <th>credits_earned</th>\n",
       "      <th>gpa</th>\n",
       "      <th>school</th>\n",
       "      <th>phone</th>\n",
       "      <th>dream_job</th>\n",
       "    </tr>\n",
       "  </thead>\n",
       "  <tbody>\n",
       "    <tr>\n",
       "      <th>0</th>\n",
       "      <td>1</td>\n",
       "      <td>74-1372606</td>\n",
       "      <td>M</td>\n",
       "      <td>20.0</td>\n",
       "      <td>119</td>\n",
       "      <td>2.47</td>\n",
       "      <td>Universität Köln</td>\n",
       "      <td>707-856-9988</td>\n",
       "      <td>Tax Accountant</td>\n",
       "    </tr>\n",
       "    <tr>\n",
       "      <th>1</th>\n",
       "      <td>2</td>\n",
       "      <td>76-7956477</td>\n",
       "      <td>F</td>\n",
       "      <td>19.0</td>\n",
       "      <td>3</td>\n",
       "      <td>3.77</td>\n",
       "      <td>Bourgas University \"Prof. Assen Zlatarov\"</td>\n",
       "      <td>580-393-8890</td>\n",
       "      <td>Associate Professor</td>\n",
       "    </tr>\n",
       "    <tr>\n",
       "      <th>2</th>\n",
       "      <td>3</td>\n",
       "      <td>92-1385513</td>\n",
       "      <td>F</td>\n",
       "      <td>18.0</td>\n",
       "      <td>101</td>\n",
       "      <td>3.68</td>\n",
       "      <td>Guru Gobind Singh Indraprastha University</td>\n",
       "      <td>577-542-6202</td>\n",
       "      <td>Administrative Assistant IV</td>\n",
       "    </tr>\n",
       "    <tr>\n",
       "      <th>3</th>\n",
       "      <td>4</td>\n",
       "      <td>78-1489862</td>\n",
       "      <td>M</td>\n",
       "      <td>18.0</td>\n",
       "      <td>95</td>\n",
       "      <td>2.71</td>\n",
       "      <td>California State University, Dominguez Hills</td>\n",
       "      <td>856-910-3755</td>\n",
       "      <td>Physical Therapy Assistant</td>\n",
       "    </tr>\n",
       "    <tr>\n",
       "      <th>4</th>\n",
       "      <td>5</td>\n",
       "      <td>03-2540883</td>\n",
       "      <td>F</td>\n",
       "      <td>17.0</td>\n",
       "      <td>63</td>\n",
       "      <td>3.09</td>\n",
       "      <td>University of Gjirokstra \"Eqerem Cabej\"</td>\n",
       "      <td>149-113-4939</td>\n",
       "      <td>Assistant Manager</td>\n",
       "    </tr>\n",
       "    <tr>\n",
       "      <th>...</th>\n",
       "      <td>...</td>\n",
       "      <td>...</td>\n",
       "      <td>...</td>\n",
       "      <td>...</td>\n",
       "      <td>...</td>\n",
       "      <td>...</td>\n",
       "      <td>...</td>\n",
       "      <td>...</td>\n",
       "      <td>...</td>\n",
       "    </tr>\n",
       "    <tr>\n",
       "      <th>495</th>\n",
       "      <td>496</td>\n",
       "      <td>83-1790524</td>\n",
       "      <td>M</td>\n",
       "      <td>24.0</td>\n",
       "      <td>82</td>\n",
       "      <td>2.60</td>\n",
       "      <td>Vancouver Community College</td>\n",
       "      <td>511-293-8180</td>\n",
       "      <td>Associate Professor</td>\n",
       "    </tr>\n",
       "    <tr>\n",
       "      <th>496</th>\n",
       "      <td>497</td>\n",
       "      <td>07-7055429</td>\n",
       "      <td>F</td>\n",
       "      <td>24.0</td>\n",
       "      <td>62</td>\n",
       "      <td>3.41</td>\n",
       "      <td>University of Asia and the Pacific</td>\n",
       "      <td>909-457-2311</td>\n",
       "      <td>Senior Cost Accountant</td>\n",
       "    </tr>\n",
       "    <tr>\n",
       "      <th>497</th>\n",
       "      <td>498</td>\n",
       "      <td>37-0902632</td>\n",
       "      <td>M</td>\n",
       "      <td>17.0</td>\n",
       "      <td>111</td>\n",
       "      <td>2.12</td>\n",
       "      <td>Universidad Nacional Jorge Basadre Grohmann</td>\n",
       "      <td>749-439-6804</td>\n",
       "      <td>GIS Technical Architect</td>\n",
       "    </tr>\n",
       "    <tr>\n",
       "      <th>498</th>\n",
       "      <td>499</td>\n",
       "      <td>18-1895879</td>\n",
       "      <td>F</td>\n",
       "      <td>23.0</td>\n",
       "      <td>54</td>\n",
       "      <td>3.52</td>\n",
       "      <td>Universidad de Playa Ancha de Ciencias de la E...</td>\n",
       "      <td>765-568-5110</td>\n",
       "      <td>Chief Design Engineer</td>\n",
       "    </tr>\n",
       "    <tr>\n",
       "      <th>499</th>\n",
       "      <td>500</td>\n",
       "      <td>74-4661951</td>\n",
       "      <td>F</td>\n",
       "      <td>24.0</td>\n",
       "      <td>86</td>\n",
       "      <td>3.91</td>\n",
       "      <td>Karunya Institute Of Technology ( Deemed Unive...</td>\n",
       "      <td>727-439-0926</td>\n",
       "      <td>Assistant Professor</td>\n",
       "    </tr>\n",
       "  </tbody>\n",
       "</table>\n",
       "<p>482 rows × 9 columns</p>\n",
       "</div>"
      ],
      "text/plain": [
       "     student_id student_number gender   age  credits_earned   gpa  \\\n",
       "0             1     74-1372606      M  20.0             119  2.47   \n",
       "1             2     76-7956477      F  19.0               3  3.77   \n",
       "2             3     92-1385513      F  18.0             101  3.68   \n",
       "3             4     78-1489862      M  18.0              95  2.71   \n",
       "4             5     03-2540883      F  17.0              63  3.09   \n",
       "..          ...            ...    ...   ...             ...   ...   \n",
       "495         496     83-1790524      M  24.0              82  2.60   \n",
       "496         497     07-7055429      F  24.0              62  3.41   \n",
       "497         498     37-0902632      M  17.0             111  2.12   \n",
       "498         499     18-1895879      F  23.0              54  3.52   \n",
       "499         500     74-4661951      F  24.0              86  3.91   \n",
       "\n",
       "                                                school         phone  \\\n",
       "0                                     Universität Köln  707-856-9988   \n",
       "1            Bourgas University \"Prof. Assen Zlatarov\"  580-393-8890   \n",
       "2            Guru Gobind Singh Indraprastha University  577-542-6202   \n",
       "3         California State University, Dominguez Hills  856-910-3755   \n",
       "4              University of Gjirokstra \"Eqerem Cabej\"  149-113-4939   \n",
       "..                                                 ...           ...   \n",
       "495                        Vancouver Community College  511-293-8180   \n",
       "496                 University of Asia and the Pacific  909-457-2311   \n",
       "497        Universidad Nacional Jorge Basadre Grohmann  749-439-6804   \n",
       "498  Universidad de Playa Ancha de Ciencias de la E...  765-568-5110   \n",
       "499  Karunya Institute Of Technology ( Deemed Unive...  727-439-0926   \n",
       "\n",
       "                       dream_job  \n",
       "0                 Tax Accountant  \n",
       "1            Associate Professor  \n",
       "2    Administrative Assistant IV  \n",
       "3     Physical Therapy Assistant  \n",
       "4              Assistant Manager  \n",
       "..                           ...  \n",
       "495          Associate Professor  \n",
       "496       Senior Cost Accountant  \n",
       "497      GIS Technical Architect  \n",
       "498        Chief Design Engineer  \n",
       "499          Assistant Professor  \n",
       "\n",
       "[482 rows x 9 columns]"
      ]
     },
     "execution_count": 187,
     "metadata": {},
     "output_type": "execute_result"
    }
   ],
   "source": [
    "df[df.age<100]"
   ]
  }
 ],
 "metadata": {
  "interpreter": {
   "hash": "aee8b7b246df8f9039afb4144a1f6fd8d2ca17a180786b69acc140d282b71a49"
  },
  "kernelspec": {
   "display_name": "Python 3.9.7 64-bit",
   "language": "python",
   "name": "python3"
  },
  "language_info": {
   "codemirror_mode": {
    "name": "ipython",
    "version": 3
   },
   "file_extension": ".py",
   "mimetype": "text/x-python",
   "name": "python",
   "nbconvert_exporter": "python",
   "pygments_lexer": "ipython3",
   "version": "3.9.7"
  },
  "orig_nbformat": 4
 },
 "nbformat": 4,
 "nbformat_minor": 2
}
