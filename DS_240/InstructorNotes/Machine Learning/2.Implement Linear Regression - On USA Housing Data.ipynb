{
 "cells": [
  {
   "cell_type": "markdown",
   "metadata": {},
   "source": [
    "## Implement Linear Regression - On USA Housing Data\n",
    "\n",
    "We will try to apply `linear regression model` on USA Housing Data, to `predict Home Prices`.\n",
    "#### ------------------------------------------------------------------------------------------------------------------------------------------------------------------------------------"
   ]
  },
  {
   "cell_type": "code",
   "execution_count": null,
   "metadata": {},
   "outputs": [],
   "source": [
    "#Importing required numpy, pandas, scikit-learn, matplotlib and seaborn libraries\n",
    "\n",
    "import numpy as np\n",
    "import pandas as pd\n",
    "\n",
    "from sklearn.model_selection import train_test_split\n",
    "from sklearn.linear_model import LinearRegression\n",
    "from sklearn.model_selection import learning_curve\n",
    "from sklearn import metrics\n",
    "\n",
    "import warnings\n",
    "warnings.filterwarnings('ignore')\n",
    "\n",
    "import matplotlib.pyplot as plt\n",
    "import seaborn as sns\n",
    "%matplotlib inline"
   ]
  },
  {
   "cell_type": "markdown",
   "metadata": {},
   "source": [
    "**Importing `csv` file, for data analysis**"
   ]
  },
  {
   "cell_type": "code",
   "execution_count": null,
   "metadata": {},
   "outputs": [],
   "source": [
    "# Importing USA Housing.csv\n",
    "data = pd.read_csv('data/usa_housing.csv')"
   ]
  },
  {
   "cell_type": "code",
   "execution_count": null,
   "metadata": {},
   "outputs": [],
   "source": [
    "# Checking for Null Values\n",
    "data.info()"
   ]
  },
  {
   "cell_type": "markdown",
   "metadata": {},
   "source": [
    " **Using info() we find that there are 5000 rows and 7 columns.**"
   ]
  },
  {
   "cell_type": "code",
   "execution_count": null,
   "metadata": {},
   "outputs": [],
   "source": [
    "data.head()"
   ]
  },
  {
   "cell_type": "code",
   "execution_count": null,
   "metadata": {},
   "outputs": [],
   "source": [
    "# Getting the summary of Data\n",
    "data.describe()"
   ]
  },
  {
   "cell_type": "markdown",
   "metadata": {},
   "source": [
    "**Data Preparation**\n",
    "\n",
    "1. There are no null values, so there is no need to delete or replace the data.\n",
    "\n",
    "2. There is no need for Address column, hence we can drop it.\n"
   ]
  },
  {
   "cell_type": "code",
   "execution_count": null,
   "metadata": {},
   "outputs": [],
   "source": [
    "# Dropping Address Column\n",
    "data.drop(['Address'],axis=1,inplace=True)"
   ]
  },
  {
   "cell_type": "code",
   "execution_count": null,
   "metadata": {},
   "outputs": [],
   "source": [
    "data.head()"
   ]
  },
  {
   "cell_type": "code",
   "execution_count": null,
   "metadata": {},
   "outputs": [],
   "source": [
    "# shuffle the DataFrame rows \n",
    "data = data.sample(frac = 1)"
   ]
  },
  {
   "cell_type": "markdown",
   "metadata": {},
   "source": [
    "### Using Seaborn Visualization (pairplot)\n",
    "**`To find CORRELATION among columns with respect to home prices.`**\n",
    "\n",
    "- Pairs plot builds on two basic figures, histogram and scatter plot. \n",
    "- Histogram on diagonal allows us to see distribution of a single variable.\n",
    "- Scatter plots on upper and lower triangles show relationship (or lack thereof) between two variables."
   ]
  },
  {
   "cell_type": "code",
   "execution_count": null,
   "metadata": {},
   "outputs": [],
   "source": [
    "# Let's plot a pair plot of all variables in our dataframe\n",
    "sns.pairplot(data);"
   ]
  },
  {
   "cell_type": "markdown",
   "metadata": {},
   "source": [
    "#### From the pair plots above, it is evident:\n",
    "- That `data distribution` is `normal`.\n",
    "\n",
    "- There is clear correlation between `price` and following:\n",
    "- `average area income`\n",
    "- `average area house age`\n",
    "- `average area number of rooms`\n",
    "- `average area number of bedrooms`\n",
    "- `average population`"
   ]
  },
  {
   "cell_type": "code",
   "execution_count": null,
   "metadata": {},
   "outputs": [],
   "source": [
    "# Visualize relationship between features and response using scatterplots\n",
    "sns.pairplot(data, x_vars=['Avg. Area Income','Avg. Area House Age','Avg. Area Number of Rooms','Avg. Area Number of Bedrooms','Area Population'], y_vars='Price',height=7, aspect=0.7, kind='scatter');"
   ]
  },
  {
   "cell_type": "markdown",
   "metadata": {},
   "source": [
    "### Using Seaborn Visualization (heatmap)\n",
    "`To find correlation among columns with respect to home price.`"
   ]
  },
  {
   "cell_type": "markdown",
   "metadata": {},
   "source": [
    "**Black colour represents that there is no linear relationship between two variables.**<br>\n",
    "**A lighter shade shows that the relationship between the variables is more linear.**"
   ]
  },
  {
   "cell_type": "code",
   "execution_count": null,
   "metadata": {},
   "outputs": [],
   "source": [
    "sns.heatmap(data.corr(),annot=True);"
   ]
  },
  {
   "cell_type": "markdown",
   "metadata": {},
   "source": [
    "## `Find correlation among columns with respect to home prices.`"
   ]
  },
  {
   "cell_type": "markdown",
   "metadata": {},
   "source": [
    "### Correlation\n",
    "- Correlation coefficient, or simply correlation, is an index that ranges from -1 to 1. \n",
    "- When value is near zero, there is no linear relationship. \n",
    "- As correlation gets closer to plus or minus one, relationship is stronger. \n",
    "- A value of one (or negative one) indicates a perfect linear relationship between two variables."
   ]
  },
  {
   "cell_type": "code",
   "execution_count": null,
   "metadata": {},
   "outputs": [],
   "source": [
    "#Let’s find the correlation between the variables in the dataset.\n",
    "data.corr().Price.sort_values(ascending=False)"
   ]
  },
  {
   "cell_type": "markdown",
   "metadata": {},
   "source": [
    "### Histogram\n",
    "- A great way to get started exploring a single variable is with the histogram. \n",
    "- A histogram divides variable into bins, counts the data points in each bin.\n",
    "- It shows bins on x-axis and counts on the y-axis."
   ]
  },
  {
   "cell_type": "code",
   "execution_count": null,
   "metadata": {},
   "outputs": [],
   "source": [
    "sns.distplot(data.Price);"
   ]
  },
  {
   "cell_type": "markdown",
   "metadata": {},
   "source": [
    "### Linear Regression Analysis\n",
    "- Before we start Linear Regression Analysis, we need to `split dataset into training and test data`. \n",
    "- We will use `train data to train our model` and `test data to validate our model`. \n",
    "- It is a general practice to keep `30% as test data` and `70% as training data`."
   ]
  },
  {
   "cell_type": "code",
   "execution_count": null,
   "metadata": {},
   "outputs": [],
   "source": [
    "# Independent variables(x)\n",
    "X = data[['Avg. Area Income','Avg. Area House Age','Avg. Area Number of Rooms','Avg. Area Number of Bedrooms','Area Population']]\n",
    "\n",
    "# Dependent variables(y)\n",
    "Y = data['Price']"
   ]
  },
  {
   "cell_type": "code",
   "execution_count": null,
   "metadata": {},
   "outputs": [],
   "source": [
    "X.head()"
   ]
  },
  {
   "cell_type": "code",
   "execution_count": null,
   "metadata": {},
   "outputs": [],
   "source": [
    "Y.head()"
   ]
  },
  {
   "cell_type": "markdown",
   "metadata": {},
   "source": [
    "### Train Test Split\n",
    "- Our goal is to create a model that generalises well for new data. \n",
    "- Our test set serves as proxy for new data.\n",
    "- Trained data is the data on which we apply linear regression algorithm. \n",
    "- And finally we test that algorithm on test data."
   ]
  },
  {
   "cell_type": "markdown",
   "metadata": {},
   "source": [
    "**Splitting dataset into train and test , giving 30% as test data and 70% as train data**\n",
    "**The code for splitting is as follows:**"
   ]
  },
  {
   "cell_type": "code",
   "execution_count": null,
   "metadata": {},
   "outputs": [],
   "source": [
    "#random_state is the seed used by the random number generator, it can be any integer.\n",
    "X_train, X_test, Y_train, Y_test = train_test_split(X, Y, train_size=0.7 ,test_size = 0.3, random_state=50)"
   ]
  },
  {
   "cell_type": "code",
   "execution_count": null,
   "metadata": {},
   "outputs": [],
   "source": [
    "print(X_train.shape)\n",
    "print(X_test.shape)\n",
    "print(Y_train.shape)\n",
    "print(Y_test.shape)"
   ]
  },
  {
   "cell_type": "markdown",
   "metadata": {},
   "source": [
    "**Using LinearRegression function from Scikit-Learn Library.**"
   ]
  },
  {
   "cell_type": "code",
   "execution_count": null,
   "metadata": {},
   "outputs": [],
   "source": [
    "# Creating a Linear Regression Model\n",
    "lm = LinearRegression()\n",
    "\n",
    "# Training the Model created using the 70% data assigned for training\n",
    "lm.fit(X_train, Y_train)"
   ]
  },
  {
   "cell_type": "code",
   "execution_count": null,
   "metadata": {},
   "outputs": [],
   "source": [
    "#Find y intercept(c)and slope(m) values as below:\n",
    "\n",
    "#To retrieve the y intercept (c):\n",
    "print(\"Intercept : \",lm.intercept_)\n",
    "\n",
    "#To retrieve the slope (m):\n",
    "print(lm.coef_)"
   ]
  },
  {
   "cell_type": "code",
   "execution_count": null,
   "metadata": {},
   "outputs": [],
   "source": [
    "# Let's see the coefficient\n",
    "coeff_df = pd.DataFrame(lm.coef_,X_test.columns,columns=['Coefficient'])\n",
    "coeff_df"
   ]
  },
  {
   "cell_type": "markdown",
   "metadata": {},
   "source": [
    "## Validating the trained model\n",
    "\n",
    "**Predicting Values of `y` based on 30% `x` test values.**"
   ]
  },
  {
   "cell_type": "code",
   "execution_count": null,
   "metadata": {},
   "outputs": [],
   "source": [
    "Y_pred = lm.predict(X_test)"
   ]
  },
  {
   "cell_type": "markdown",
   "metadata": {},
   "source": [
    "### Comparing Actual Values with Predicted Values by plotting graph"
   ]
  },
  {
   "cell_type": "code",
   "execution_count": null,
   "metadata": {},
   "outputs": [],
   "source": [
    "plt.scatter(Y_test, Y_pred)\n",
    "plt.xlabel(\"Actual values\")\n",
    "plt.ylabel(\"Predicted values\")"
   ]
  },
  {
   "cell_type": "markdown",
   "metadata": {},
   "source": [
    "### How accurate is our Model ?\n",
    "\n",
    "A common method of measuring accuracy of regression models is to use: R2 score, Variance and Mean Square Error."
   ]
  },
  {
   "cell_type": "markdown",
   "metadata": {},
   "source": [
    "### Coefficient of determination (R2)\n",
    "- R2 is fraction (percentage) of variation in dependent variable Y that is explainable by independent variable X. \n",
    "- It ranges between 0 (no predictability) to 1 (or 100%) which indicates complete predictability.\n",
    "- A high R2 indicates being able to predict response variable with less error."
   ]
  },
  {
   "cell_type": "code",
   "execution_count": null,
   "metadata": {},
   "outputs": [],
   "source": [
    "vari = metrics.explained_variance_score(Y_test,Y_pred)\n",
    "r2score = metrics.r2_score(Y_test, Y_pred)\n",
    "mse = metrics.mean_squared_error(Y_test,Y_pred)\n",
    "\n",
    "print('Variance: ',vari)\n",
    "print('R2 score : ', r2score)\n",
    "print('MSE: ',mse )"
   ]
  },
  {
   "cell_type": "markdown",
   "metadata": {},
   "source": [
    "- Predicted values and actual values seem to be agreeing with each other and R2 score is 0.92 (Max possible is 1.0).\n",
    "- But MSE seems to be higher, which shouldn't be, hence we need to improve our model."
   ]
  },
  {
   "cell_type": "markdown",
   "metadata": {},
   "source": [
    "#### To reduce MSE, we can drop a column with least correlation to improve accuracy of Model.\n",
    "**Find list of columns and their correlation**"
   ]
  },
  {
   "cell_type": "code",
   "execution_count": null,
   "metadata": {},
   "outputs": [],
   "source": [
    "data.corr().Price.sort_values(ascending=False)"
   ]
  },
  {
   "cell_type": "markdown",
   "metadata": {},
   "source": [
    "**Avg. Area Number of Bedrooms - has least correlation, hence can be dropped**"
   ]
  },
  {
   "cell_type": "code",
   "execution_count": null,
   "metadata": {},
   "outputs": [],
   "source": [
    "X.drop(['Avg. Area Number of Bedrooms'],axis=1, inplace=True)"
   ]
  },
  {
   "cell_type": "code",
   "execution_count": null,
   "metadata": {},
   "outputs": [],
   "source": [
    "X.head()"
   ]
  },
  {
   "cell_type": "code",
   "execution_count": null,
   "metadata": {},
   "outputs": [],
   "source": [
    "Y.head()"
   ]
  },
  {
   "cell_type": "markdown",
   "metadata": {},
   "source": [
    "**Splitting dataset into train and test , giving 30% as test data and 70% as train data**"
   ]
  },
  {
   "cell_type": "code",
   "execution_count": null,
   "metadata": {},
   "outputs": [],
   "source": [
    "#random_state is the seed used by the random number generator, it can be any integer.\n",
    "X_train, X_test, Y_train, Y_test = train_test_split(X, Y, train_size=0.7 ,test_size = 0.3, random_state=50)"
   ]
  },
  {
   "cell_type": "code",
   "execution_count": null,
   "metadata": {},
   "outputs": [],
   "source": [
    "print(X_train.shape)\n",
    "print(X_test.shape)\n",
    "print(Y_train.shape)\n",
    "print(Y_test.shape)"
   ]
  },
  {
   "cell_type": "markdown",
   "metadata": {},
   "source": [
    "**Using LinearRegression function from Scikit-Learn Library.**"
   ]
  },
  {
   "cell_type": "code",
   "execution_count": null,
   "metadata": {},
   "outputs": [],
   "source": [
    "# Creating a Linear Regression Model\n",
    "lm = LinearRegression()\n",
    "\n",
    "# Training the Model created using the 70% data assigned for training\n",
    "lm.fit(X_train, Y_train)"
   ]
  },
  {
   "cell_type": "code",
   "execution_count": null,
   "metadata": {},
   "outputs": [],
   "source": [
    "#Find y intercept(c)and slope(m) values as below:\n",
    "\n",
    "#To retrieve the y intercept (c):\n",
    "print(\"Intercept : \",lm.intercept_)\n",
    "\n",
    "#To retrieve the slope (m):\n",
    "print(lm.coef_)"
   ]
  },
  {
   "cell_type": "code",
   "execution_count": null,
   "metadata": {},
   "outputs": [],
   "source": [
    "# Let's see the coefficient\n",
    "coeff_df = pd.DataFrame(lm.coef_,X_test.columns,columns=['Coefficient'])\n",
    "coeff_df"
   ]
  },
  {
   "cell_type": "markdown",
   "metadata": {},
   "source": [
    "## Validating the trained model\n",
    "\n",
    "**Predicting Values of `y` based on 30% `x` test values.**"
   ]
  },
  {
   "cell_type": "code",
   "execution_count": null,
   "metadata": {},
   "outputs": [],
   "source": [
    "Y_pred = lm.predict(X_test)"
   ]
  },
  {
   "cell_type": "markdown",
   "metadata": {},
   "source": [
    "### Comparing Actual Values with Predicted Values by plotting graph"
   ]
  },
  {
   "cell_type": "code",
   "execution_count": null,
   "metadata": {},
   "outputs": [],
   "source": [
    "plt.scatter(Y_test, Y_pred)\n",
    "plt.xlabel(\"Actual values\")\n",
    "plt.ylabel(\"Predicted values\")"
   ]
  },
  {
   "cell_type": "markdown",
   "metadata": {},
   "source": [
    "### How accurate is our Model ?\n",
    "\n",
    "A common method of measuring accuracy of regression models is to use: R2 score, Variance and Mean Square Error."
   ]
  },
  {
   "cell_type": "code",
   "execution_count": null,
   "metadata": {},
   "outputs": [],
   "source": [
    "vari = metrics.explained_variance_score(Y_test,Y_pred)\n",
    "r2score = metrics.r2_score(Y_test, Y_pred)\n",
    "mse = metrics.mean_squared_error(Y_test,Y_pred)\n",
    "\n",
    "print('Variance: ',vari)\n",
    "print('R2 score : ', r2score)\n",
    "print('MSE: ',mse )"
   ]
  },
  {
   "cell_type": "markdown",
   "metadata": {},
   "source": [
    "## R2 Score is 0.92, which represents accuracy of 92%, which is good."
   ]
  }
 ],
 "metadata": {
  "kernelspec": {
   "display_name": "Python 3 (ipykernel)",
   "language": "python",
   "name": "python3"
  },
  "language_info": {
   "codemirror_mode": {
    "name": "ipython",
    "version": 3
   },
   "file_extension": ".py",
   "mimetype": "text/x-python",
   "name": "python",
   "nbconvert_exporter": "python",
   "pygments_lexer": "ipython3",
   "version": "3.8.11"
  }
 },
 "nbformat": 4,
 "nbformat_minor": 2
}
