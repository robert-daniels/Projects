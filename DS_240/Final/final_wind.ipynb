{
 "cells": [
  {
   "cell_type": "markdown",
   "metadata": {},
   "source": [
    "Final: DS 240. Data Cleaning work"
   ]
  },
  {
   "cell_type": "code",
   "execution_count": 104,
   "metadata": {},
   "outputs": [],
   "source": [
    "import pandas as pd\n",
    "import numpy as np\n",
    "\n",
    "# from sklearn.model_selection import train_test_split\n",
    "# from sklearn.linear_model import LinearRegression\n",
    "# from sklearn.model_selection import learning_curve\n",
    "# from sklearn import metrics\n",
    "\n",
    "import warnings\n",
    "warnings.filterwarnings('ignore')\n",
    "\n",
    "import matplotlib.pyplot as plt\n",
    "import seaborn as sns\n",
    "%matplotlib inline"
   ]
  },
  {
   "cell_type": "code",
   "execution_count": 105,
   "metadata": {},
   "outputs": [
    {
     "name": "stdout",
     "output_type": "stream",
     "text": [
      "<class 'pandas.core.frame.DataFrame'>\n",
      "Index: 6574 entries, 1961-01-01 to 1978-12-31\n",
      "Data columns (total 8 columns):\n",
      " #   Column   Non-Null Count  Dtype  \n",
      "---  ------   --------------  -----  \n",
      " 0   WIND     6574 non-null   float64\n",
      " 1   IND      6574 non-null   int64  \n",
      " 2   RAIN     6574 non-null   float64\n",
      " 3   IND.1    6513 non-null   float64\n",
      " 4   T.MAX    5953 non-null   float64\n",
      " 5   IND.2    6513 non-null   float64\n",
      " 6   T.MIN    5900 non-null   float64\n",
      " 7   T.MIN.G  6214 non-null   float64\n",
      "dtypes: float64(7), int64(1)\n",
      "memory usage: 462.2+ KB\n"
     ]
    }
   ],
   "source": [
    "windDF = pd.read_csv('wind_dataset.csv', index_col=0)\n",
    "windDF.info()"
   ]
  },
  {
   "cell_type": "code",
   "execution_count": 106,
   "metadata": {},
   "outputs": [
    {
     "data": {
      "text/html": [
       "<div>\n",
       "<style scoped>\n",
       "    .dataframe tbody tr th:only-of-type {\n",
       "        vertical-align: middle;\n",
       "    }\n",
       "\n",
       "    .dataframe tbody tr th {\n",
       "        vertical-align: top;\n",
       "    }\n",
       "\n",
       "    .dataframe thead th {\n",
       "        text-align: right;\n",
       "    }\n",
       "</style>\n",
       "<table border=\"1\" class=\"dataframe\">\n",
       "  <thead>\n",
       "    <tr style=\"text-align: right;\">\n",
       "      <th></th>\n",
       "      <th>WIND</th>\n",
       "      <th>IND</th>\n",
       "      <th>RAIN</th>\n",
       "      <th>IND.1</th>\n",
       "      <th>T.MAX</th>\n",
       "      <th>IND.2</th>\n",
       "      <th>T.MIN</th>\n",
       "      <th>T.MIN.G</th>\n",
       "    </tr>\n",
       "    <tr>\n",
       "      <th>DATE</th>\n",
       "      <th></th>\n",
       "      <th></th>\n",
       "      <th></th>\n",
       "      <th></th>\n",
       "      <th></th>\n",
       "      <th></th>\n",
       "      <th></th>\n",
       "      <th></th>\n",
       "    </tr>\n",
       "  </thead>\n",
       "  <tbody>\n",
       "    <tr>\n",
       "      <th>1961-01-01</th>\n",
       "      <td>13.67</td>\n",
       "      <td>0</td>\n",
       "      <td>0.2</td>\n",
       "      <td>0.0</td>\n",
       "      <td>9.5</td>\n",
       "      <td>0.0</td>\n",
       "      <td>3.7</td>\n",
       "      <td>-1.0</td>\n",
       "    </tr>\n",
       "    <tr>\n",
       "      <th>1961-01-02</th>\n",
       "      <td>11.50</td>\n",
       "      <td>0</td>\n",
       "      <td>5.1</td>\n",
       "      <td>0.0</td>\n",
       "      <td>7.2</td>\n",
       "      <td>0.0</td>\n",
       "      <td>4.2</td>\n",
       "      <td>1.1</td>\n",
       "    </tr>\n",
       "    <tr>\n",
       "      <th>1961-01-03</th>\n",
       "      <td>11.25</td>\n",
       "      <td>0</td>\n",
       "      <td>0.4</td>\n",
       "      <td>0.0</td>\n",
       "      <td>5.5</td>\n",
       "      <td>0.0</td>\n",
       "      <td>0.5</td>\n",
       "      <td>-0.5</td>\n",
       "    </tr>\n",
       "    <tr>\n",
       "      <th>1961-01-04</th>\n",
       "      <td>8.63</td>\n",
       "      <td>0</td>\n",
       "      <td>0.2</td>\n",
       "      <td>0.0</td>\n",
       "      <td>5.6</td>\n",
       "      <td>0.0</td>\n",
       "      <td>0.4</td>\n",
       "      <td>-3.2</td>\n",
       "    </tr>\n",
       "    <tr>\n",
       "      <th>1961-01-05</th>\n",
       "      <td>11.92</td>\n",
       "      <td>0</td>\n",
       "      <td>10.4</td>\n",
       "      <td>0.0</td>\n",
       "      <td>7.2</td>\n",
       "      <td>1.0</td>\n",
       "      <td>-1.5</td>\n",
       "      <td>-7.5</td>\n",
       "    </tr>\n",
       "  </tbody>\n",
       "</table>\n",
       "</div>"
      ],
      "text/plain": [
       "             WIND  IND  RAIN  IND.1  T.MAX  IND.2  T.MIN  T.MIN.G\n",
       "DATE                                                             \n",
       "1961-01-01  13.67    0   0.2    0.0    9.5    0.0    3.7     -1.0\n",
       "1961-01-02  11.50    0   5.1    0.0    7.2    0.0    4.2      1.1\n",
       "1961-01-03  11.25    0   0.4    0.0    5.5    0.0    0.5     -0.5\n",
       "1961-01-04   8.63    0   0.2    0.0    5.6    0.0    0.4     -3.2\n",
       "1961-01-05  11.92    0  10.4    0.0    7.2    1.0   -1.5     -7.5"
      ]
     },
     "execution_count": 106,
     "metadata": {},
     "output_type": "execute_result"
    }
   ],
   "source": [
    "windDF.head()"
   ]
  },
  {
   "cell_type": "code",
   "execution_count": 107,
   "metadata": {},
   "outputs": [],
   "source": [
    "windDF.rename(columns={\n",
    "    'WIND': 'avgWindSpeed',\n",
    "    'T.MAX': 'maxTemp',\n",
    "    'T.MIN': 'minTemp',\n",
    "    'T.MIN.G': 'grossMinTemp'\n",
    "\n",
    "}, inplace=True)"
   ]
  },
  {
   "cell_type": "code",
   "execution_count": 108,
   "metadata": {},
   "outputs": [],
   "source": [
    "windDF.drop(['IND', 'IND.1', 'IND.2'], axis=1, inplace=True)"
   ]
  },
  {
   "cell_type": "code",
   "execution_count": 109,
   "metadata": {},
   "outputs": [
    {
     "data": {
      "text/plain": [
       "avgWindSpeed      0\n",
       "RAIN              0\n",
       "maxTemp         621\n",
       "minTemp         674\n",
       "grossMinTemp    360\n",
       "dtype: int64"
      ]
     },
     "execution_count": 109,
     "metadata": {},
     "output_type": "execute_result"
    }
   ],
   "source": [
    "windDF.isnull().sum()"
   ]
  },
  {
   "cell_type": "code",
   "execution_count": 110,
   "metadata": {},
   "outputs": [
    {
     "data": {
      "text/plain": [
       "avgWindSpeed    0\n",
       "RAIN            0\n",
       "maxTemp         0\n",
       "minTemp         0\n",
       "grossMinTemp    0\n",
       "dtype: int64"
      ]
     },
     "execution_count": 110,
     "metadata": {},
     "output_type": "execute_result"
    }
   ],
   "source": [
    "windDF.maxTemp = windDF.maxTemp.fillna(windDF.maxTemp.mean())\n",
    "windDF.minTemp = windDF.minTemp.fillna(windDF.minTemp.mean())\n",
    "windDF.grossMinTemp = windDF.grossMinTemp.fillna(windDF.grossMinTemp.mean())\n",
    "windDF.isnull().sum()"
   ]
  },
  {
   "cell_type": "code",
   "execution_count": 111,
   "metadata": {},
   "outputs": [
    {
     "name": "stdout",
     "output_type": "stream",
     "text": [
      "<class 'pandas.core.frame.DataFrame'>\n",
      "Index: 6574 entries, 1961-01-01 to 1978-12-31\n",
      "Data columns (total 5 columns):\n",
      " #   Column        Non-Null Count  Dtype  \n",
      "---  ------        --------------  -----  \n",
      " 0   avgWindSpeed  6574 non-null   float64\n",
      " 1   RAIN          6574 non-null   float64\n",
      " 2   maxTemp       6574 non-null   float64\n",
      " 3   minTemp       6574 non-null   float64\n",
      " 4   grossMinTemp  6574 non-null   float64\n",
      "dtypes: float64(5)\n",
      "memory usage: 308.2+ KB\n"
     ]
    }
   ],
   "source": [
    "windDF.head()\n",
    "windDF.info()"
   ]
  },
  {
   "cell_type": "code",
   "execution_count": 112,
   "metadata": {},
   "outputs": [
    {
     "data": {
      "text/html": [
       "<div>\n",
       "<style scoped>\n",
       "    .dataframe tbody tr th:only-of-type {\n",
       "        vertical-align: middle;\n",
       "    }\n",
       "\n",
       "    .dataframe tbody tr th {\n",
       "        vertical-align: top;\n",
       "    }\n",
       "\n",
       "    .dataframe thead th {\n",
       "        text-align: right;\n",
       "    }\n",
       "</style>\n",
       "<table border=\"1\" class=\"dataframe\">\n",
       "  <thead>\n",
       "    <tr style=\"text-align: right;\">\n",
       "      <th></th>\n",
       "      <th>avgWindSpeed</th>\n",
       "      <th>RAIN</th>\n",
       "      <th>maxTemp</th>\n",
       "      <th>minTemp</th>\n",
       "      <th>grossMinTemp</th>\n",
       "    </tr>\n",
       "  </thead>\n",
       "  <tbody>\n",
       "    <tr>\n",
       "      <th>avgWindSpeed</th>\n",
       "      <td>1.000000</td>\n",
       "      <td>0.120876</td>\n",
       "      <td>-0.230302</td>\n",
       "      <td>-0.087851</td>\n",
       "      <td>0.012424</td>\n",
       "    </tr>\n",
       "    <tr>\n",
       "      <th>RAIN</th>\n",
       "      <td>0.120876</td>\n",
       "      <td>1.000000</td>\n",
       "      <td>-0.041087</td>\n",
       "      <td>0.010255</td>\n",
       "      <td>0.026642</td>\n",
       "    </tr>\n",
       "    <tr>\n",
       "      <th>maxTemp</th>\n",
       "      <td>-0.230302</td>\n",
       "      <td>-0.041087</td>\n",
       "      <td>1.000000</td>\n",
       "      <td>0.786002</td>\n",
       "      <td>0.635400</td>\n",
       "    </tr>\n",
       "    <tr>\n",
       "      <th>minTemp</th>\n",
       "      <td>-0.087851</td>\n",
       "      <td>0.010255</td>\n",
       "      <td>0.786002</td>\n",
       "      <td>1.000000</td>\n",
       "      <td>0.843865</td>\n",
       "    </tr>\n",
       "    <tr>\n",
       "      <th>grossMinTemp</th>\n",
       "      <td>0.012424</td>\n",
       "      <td>0.026642</td>\n",
       "      <td>0.635400</td>\n",
       "      <td>0.843865</td>\n",
       "      <td>1.000000</td>\n",
       "    </tr>\n",
       "  </tbody>\n",
       "</table>\n",
       "</div>"
      ],
      "text/plain": [
       "              avgWindSpeed      RAIN   maxTemp   minTemp  grossMinTemp\n",
       "avgWindSpeed      1.000000  0.120876 -0.230302 -0.087851      0.012424\n",
       "RAIN              0.120876  1.000000 -0.041087  0.010255      0.026642\n",
       "maxTemp          -0.230302 -0.041087  1.000000  0.786002      0.635400\n",
       "minTemp          -0.087851  0.010255  0.786002  1.000000      0.843865\n",
       "grossMinTemp      0.012424  0.026642  0.635400  0.843865      1.000000"
      ]
     },
     "execution_count": 112,
     "metadata": {},
     "output_type": "execute_result"
    }
   ],
   "source": [
    "windDF.corr()"
   ]
  }
 ],
 "metadata": {
  "interpreter": {
   "hash": "0d7613a1d525cd190d6e0b054519965621d904c233acf13eedbbd105ff614260"
  },
  "kernelspec": {
   "display_name": "Python 3.9.12 64-bit (windows store)",
   "language": "python",
   "name": "python3"
  },
  "language_info": {
   "codemirror_mode": {
    "name": "ipython",
    "version": 3
   },
   "file_extension": ".py",
   "mimetype": "text/x-python",
   "name": "python",
   "nbconvert_exporter": "python",
   "pygments_lexer": "ipython3",
   "version": "3.9.12"
  },
  "orig_nbformat": 4
 },
 "nbformat": 4,
 "nbformat_minor": 2
}
