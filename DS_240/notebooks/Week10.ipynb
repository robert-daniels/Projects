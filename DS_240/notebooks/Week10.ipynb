{
 "cells": [
  {
   "cell_type": "markdown",
   "metadata": {},
   "source": [
    "Robert Daniels\n",
    "Week 10 HW"
   ]
  },
  {
   "cell_type": "code",
   "execution_count": 133,
   "metadata": {},
   "outputs": [],
   "source": [
    "import numpy as np"
   ]
  },
  {
   "cell_type": "markdown",
   "metadata": {},
   "source": [
    "Question 1: Create two separate arrays using the following.\n",
    "a) [6,3,9]\n",
    "b) [(7,4,3),(2,8,7)]\n",
    "Answer questions Q2 to Q8 based on two arrays created in Q1"
   ]
  },
  {
   "cell_type": "code",
   "execution_count": 134,
   "metadata": {},
   "outputs": [],
   "source": [
    "array1 = np.array([1,2,3])\n",
    "array2 = np.array([(7,4,3), (2,8,7)])"
   ]
  },
  {
   "cell_type": "markdown",
   "metadata": {},
   "source": [
    "Question 2: Find dimensions of two arrays."
   ]
  },
  {
   "cell_type": "code",
   "execution_count": 135,
   "metadata": {},
   "outputs": [
    {
     "name": "stdout",
     "output_type": "stream",
     "text": [
      "Array dimension for array1 is: 1\n",
      "Array dimension for array2 is: 2\n"
     ]
    }
   ],
   "source": [
    "print(f\"Array dimension for array1 is: {array1.ndim}\")\n",
    "print(f\"Array dimension for array2 is: {array2.ndim}\")"
   ]
  },
  {
   "cell_type": "markdown",
   "metadata": {},
   "source": [
    "Question 3: Find memory used by each array element in bytes."
   ]
  },
  {
   "cell_type": "code",
   "execution_count": 136,
   "metadata": {},
   "outputs": [
    {
     "name": "stdout",
     "output_type": "stream",
     "text": [
      "The memory size of elements in array1 is: 4\n",
      "The memory size of elements in array2 is: 4\n"
     ]
    }
   ],
   "source": [
    "print(f\"The memory size of elements in array1 is: {array1.itemsize}\")\n",
    "print(f\"The memory size of elements in array2 is: {array2.itemsize}\")"
   ]
  },
  {
   "cell_type": "markdown",
   "metadata": {},
   "source": [
    "Question 4: Find datatypes of two arrays."
   ]
  },
  {
   "cell_type": "code",
   "execution_count": 137,
   "metadata": {},
   "outputs": [
    {
     "name": "stdout",
     "output_type": "stream",
     "text": [
      "The data type of array1 is: int32\n",
      "The data type of array2 is: int32\n"
     ]
    }
   ],
   "source": [
    "print(f\"The data type of array1 is: {array1.dtype}\")\n",
    "print(f\"The data type of array2 is: {array2.dtype}\")"
   ]
  },
  {
   "cell_type": "markdown",
   "metadata": {},
   "source": [
    "Question 5: Find count of data elements for two arrays.\n"
   ]
  },
  {
   "cell_type": "code",
   "execution_count": 138,
   "metadata": {},
   "outputs": [
    {
     "name": "stdout",
     "output_type": "stream",
     "text": [
      "The count of array1 elements is: 3\n",
      "The count of array2 elements is: 6\n"
     ]
    }
   ],
   "source": [
    "print(f\"The count of array1 elements is: {array1.size}\")\n",
    "print(f\"The count of array2 elements is: {array2.size}\")"
   ]
  },
  {
   "cell_type": "markdown",
   "metadata": {},
   "source": [
    "Question 6: Find shapes of two arrays."
   ]
  },
  {
   "cell_type": "code",
   "execution_count": 139,
   "metadata": {},
   "outputs": [
    {
     "name": "stdout",
     "output_type": "stream",
     "text": [
      "The shape of array1 is: (3,)\n",
      "The shape of array2 is (2, 3)\n"
     ]
    }
   ],
   "source": [
    "print(f\"The shape of array1 is: {array1.shape}\")\n",
    "print(f\"The shape of array2 is {array2.shape}\")"
   ]
  },
  {
   "cell_type": "markdown",
   "metadata": {},
   "source": [
    "Question 7: For array created in Q1(b), convert columns to rows and print."
   ]
  },
  {
   "cell_type": "code",
   "execution_count": 140,
   "metadata": {},
   "outputs": [
    {
     "name": "stdout",
     "output_type": "stream",
     "text": [
      "array2 is now:\n",
      " [[7 4]\n",
      " [3 2]\n",
      " [8 7]]\n"
     ]
    }
   ],
   "source": [
    "array2 = array2.reshape(3,2)\n",
    "print(f\"array2 is now:\\n {array2}\")"
   ]
  },
  {
   "cell_type": "markdown",
   "metadata": {},
   "source": [
    "Question 8: For array created in Q1(a), convert columns to rows and print."
   ]
  },
  {
   "cell_type": "code",
   "execution_count": 141,
   "metadata": {},
   "outputs": [
    {
     "name": "stdout",
     "output_type": "stream",
     "text": [
      "array1 is now: \n",
      " [[1]\n",
      " [2]\n",
      " [3]]\n"
     ]
    }
   ],
   "source": [
    "array1 = array1.reshape(3,1)\n",
    "print(f\"array1 is now: \\n {array1}\")"
   ]
  },
  {
   "cell_type": "markdown",
   "metadata": {},
   "source": [
    "Question 9: Generate 10 values between 5 and 15... 5 and 15 included. (Note)"
   ]
  },
  {
   "cell_type": "code",
   "execution_count": 142,
   "metadata": {},
   "outputs": [],
   "source": [
    "array10Values = np.linspace(5,16,10)"
   ]
  },
  {
   "cell_type": "markdown",
   "metadata": {},
   "source": [
    "Questions 10: Generate 5 values between 1 and 5... 1 and 5 included."
   ]
  },
  {
   "cell_type": "code",
   "execution_count": 143,
   "metadata": {},
   "outputs": [],
   "source": [
    "array5Values = np.linspace(1,5,5)"
   ]
  }
 ],
 "metadata": {
  "interpreter": {
   "hash": "0d7613a1d525cd190d6e0b054519965621d904c233acf13eedbbd105ff614260"
  },
  "kernelspec": {
   "display_name": "Python 3.9.11 64-bit (windows store)",
   "language": "python",
   "name": "python3"
  },
  "language_info": {
   "codemirror_mode": {
    "name": "ipython",
    "version": 3
   },
   "file_extension": ".py",
   "mimetype": "text/x-python",
   "name": "python",
   "nbconvert_exporter": "python",
   "pygments_lexer": "ipython3",
   "version": "3.9.12"
  },
  "orig_nbformat": 4
 },
 "nbformat": 4,
 "nbformat_minor": 2
}
