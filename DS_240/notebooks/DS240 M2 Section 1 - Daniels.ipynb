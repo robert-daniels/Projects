{
 "cells": [
  {
   "cell_type": "markdown",
   "metadata": {},
   "source": [
    "Mid Term Exam 2 - Section 1: Robert Daniels\n",
    "04/21/2022"
   ]
  },
  {
   "cell_type": "code",
   "execution_count": 19,
   "metadata": {},
   "outputs": [],
   "source": [
    "import numpy as np"
   ]
  },
  {
   "cell_type": "markdown",
   "metadata": {},
   "source": [
    "Section 1: Q1"
   ]
  },
  {
   "cell_type": "code",
   "execution_count": 20,
   "metadata": {},
   "outputs": [
    {
     "name": "stdout",
     "output_type": "stream",
     "text": [
      "The 1D array is [1 2 3 4 5 6]\n",
      "The 2D array is \n",
      " [[1 2]\n",
      " [3 4]]\n"
     ]
    }
   ],
   "source": [
    "array6 = np.array([1,2,3,4,5,6])\n",
    "array2D = np.array([(1,2), (3,4)])\n",
    "\n",
    "print(f\"The 1D array is {array6}\")\n",
    "print(f\"The 2D array is \\n {array2D}\")"
   ]
  },
  {
   "cell_type": "markdown",
   "metadata": {},
   "source": [
    "Section 1: Q2"
   ]
  },
  {
   "cell_type": "code",
   "execution_count": 21,
   "metadata": {},
   "outputs": [
    {
     "name": "stdout",
     "output_type": "stream",
     "text": [
      "The 2D array has 4 elements\n",
      "The data type of elements in the 2D array is int64\n",
      "The # of dimensions of the 2D array is 2\n",
      "The sum of all of the elements in the 2D array is 10.\n",
      "The minimum value of the 2D array is 1.\n"
     ]
    }
   ],
   "source": [
    "print(f\"The 2D array has {array2D.size} elements\")\n",
    "print(f\"The data type of elements in the 2D array is {array2D.dtype}\")\n",
    "print(f\"The # of dimensions of the 2D array is {array2D.ndim}\")\n",
    "print(f\"The sum of all of the elements in the 2D array is {np.sum(array2D)}.\")\n",
    "print(f\"The minimum value of the 2D array is {np.min(array2D)}.\")"
   ]
  }
 ],
 "metadata": {
  "interpreter": {
   "hash": "aee8b7b246df8f9039afb4144a1f6fd8d2ca17a180786b69acc140d282b71a49"
  },
  "kernelspec": {
   "display_name": "Python 3.9.7 64-bit",
   "language": "python",
   "name": "python3"
  },
  "language_info": {
   "codemirror_mode": {
    "name": "ipython",
    "version": 3
   },
   "file_extension": ".py",
   "mimetype": "text/x-python",
   "name": "python",
   "nbconvert_exporter": "python",
   "pygments_lexer": "ipython3",
   "version": "3.9.7"
  },
  "orig_nbformat": 4
 },
 "nbformat": 4,
 "nbformat_minor": 2
}
